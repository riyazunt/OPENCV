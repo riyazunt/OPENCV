{
 "cells": [
  {
   "cell_type": "code",
   "execution_count": 1,
   "id": "e7dbb923",
   "metadata": {},
   "outputs": [],
   "source": [
    "import cv2 as cv\n",
    "import numpy as np\n",
    "import matplotlib.pyplot as plt"
   ]
  },
  {
   "cell_type": "code",
   "execution_count": 2,
   "id": "ce633d22",
   "metadata": {},
   "outputs": [],
   "source": [
    "img = cv.imread('Photos/cats 2.jpg')\n",
    "cv.imshow('Cats', img)\n",
    "\n",
    "\n",
    "cv.waitKey(0)\n",
    "cv.destroyAllWindows()"
   ]
  },
  {
   "cell_type": "code",
   "execution_count": 3,
   "id": "4126c7dd",
   "metadata": {},
   "outputs": [],
   "source": [
    "# gradient and edge detection (mathematically both are differnt)"
   ]
  },
  {
   "cell_type": "code",
   "execution_count": 4,
   "id": "f12a2bc0",
   "metadata": {},
   "outputs": [],
   "source": [
    "img = cv.imread('Photos/cats 2.jpg')\n",
    "cv.imshow('Cats', img)\n",
    "\n",
    "gray = cv.cvtColor(img, cv.COLOR_BGR2GRAY)\n",
    "cv.imshow('GRAY', gray)\n",
    "\n",
    "# laplacian (computes gradient of the image)\n",
    "# (transition from black to white and white to black (+ve and -ve slop), images cannot have -ve pixel values => absolute)\n",
    "lap = cv.Laplacian(gray, cv.CV_64F) # data depth\n",
    "lap = np.uint8(np.absolute(lap))\n",
    "cv.imshow('Laplacian', lap)\n",
    "\n",
    "# sobel method\n",
    "# compute gradiant in x and y direction\n",
    "\n",
    "sobelx  =cv.Sobel(gray, cv.CV_64F, 1, 0) # (x direction 1 and y direction 0)\n",
    "sobely  =cv.Sobel(gray, cv.CV_64F, 0, 1)\n",
    "combined_sobel = cv.bitwise_or(sobelx, sobely)\n",
    "\n",
    "cv.imshow('Sobel_X', sobelx)\n",
    "cv.imshow('Sobel_Y', sobely)\n",
    "cv.imshow('Sobel_Combined', combined_sobel)\n",
    "\n",
    "canny = cv.Canny(gray, 150, 175)\n",
    "cv.imshow('Canny', canny)\n",
    "\n",
    "cv.waitKey(0)\n",
    "cv.destroyAllWindows()"
   ]
  },
  {
   "cell_type": "code",
   "execution_count": 13,
   "id": "d38de391",
   "metadata": {},
   "outputs": [],
   "source": [
    "# canny uses sobel at one of its stages, and most cleaner version of edges that can be found in an image"
   ]
  },
  {
   "cell_type": "code",
   "execution_count": null,
   "id": "f16a0db0",
   "metadata": {},
   "outputs": [],
   "source": []
  }
 ],
 "metadata": {
  "kernelspec": {
   "display_name": "Python 3 (ipykernel)",
   "language": "python",
   "name": "python3"
  },
  "language_info": {
   "codemirror_mode": {
    "name": "ipython",
    "version": 3
   },
   "file_extension": ".py",
   "mimetype": "text/x-python",
   "name": "python",
   "nbconvert_exporter": "python",
   "pygments_lexer": "ipython3",
   "version": "3.9.12"
  }
 },
 "nbformat": 4,
 "nbformat_minor": 5
}
