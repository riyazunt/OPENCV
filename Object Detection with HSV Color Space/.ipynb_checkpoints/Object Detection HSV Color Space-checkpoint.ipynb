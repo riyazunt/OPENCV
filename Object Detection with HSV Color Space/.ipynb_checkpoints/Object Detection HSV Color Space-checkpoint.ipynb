{
 "cells": [
  {
   "cell_type": "code",
   "execution_count": 1,
   "id": "c88ef2b1",
   "metadata": {},
   "outputs": [],
   "source": [
    "# HSV, Hue Saturation and value\n",
    "# more than 150 color space convergence method in opencv\n",
    "# one is colored to HSV color space"
   ]
  },
  {
   "cell_type": "code",
   "execution_count": 2,
   "id": "6940c52b",
   "metadata": {},
   "outputs": [],
   "source": [
    "# hue - color components (base pigment)(0-360)\n",
    "# saturation - amount of color (depth of the pigment)(0-100%)\n",
    "# value - brightness of color(0-100%)"
   ]
  },
  {
   "cell_type": "code",
   "execution_count": 1,
   "id": "599148fb",
   "metadata": {},
   "outputs": [],
   "source": [
    "import cv2 as cv\n",
    "import numpy as np"
   ]
  },
  {
   "cell_type": "code",
   "execution_count": 3,
   "id": "ed05060f",
   "metadata": {},
   "outputs": [],
   "source": [
    "def nothing(x):\n",
    "    pass\n",
    "\n",
    "cv.namedWindow(\"Tracking\")\n",
    "cv.createTrackbar(\"Lower_Hue\", \"Tracking\", 0, 255, nothing)\n",
    "cv.createTrackbar(\"Lower_Saturation\", \"Tracking\", 0, 255, nothing)\n",
    "cv.createTrackbar(\"Lower_Value\", \"Tracking\", 0, 255, nothing)\n",
    "cv.createTrackbar(\"Upper_Hue\", \"Tracking\", 255, 255, nothing)\n",
    "cv.createTrackbar(\"Upper_Saturation\", \"Tracking\", 255, 255, nothing)\n",
    "cv.createTrackbar(\"Upper_Value\", \"Tracking\", 255, 255, nothing)\n",
    "\n",
    "while True:\n",
    "    frame = cv.imread('../Photos/balls_5.webp')\n",
    "    \n",
    "    hsv = cv.cvtColor(frame, cv.COLOR_BGR2HSV)\n",
    "    \n",
    "    l_h = cv.getTrackbarPos('Lower_Hue', 'Tracking')\n",
    "    l_s = cv.getTrackbarPos('Lower_Saturation', 'Tracking')\n",
    "    l_v = cv.getTrackbarPos('Lower_Value', 'Tracking')\n",
    "    \n",
    "    u_h = cv.getTrackbarPos('Upper_Hue', 'Tracking')\n",
    "    u_s = cv.getTrackbarPos('Upper_Saturation', 'Tracking')\n",
    "    u_v = cv.getTrackbarPos('Upper_Value', 'Tracking')\n",
    "    \n",
    "    # l_b = np.array([110,50,50])\n",
    "    # u_b = np.array([130,255,255])\n",
    "    \n",
    "    l_pos = np.array([l_h, l_s, l_v])\n",
    "    u_pos = np.array([u_h, u_s, u_v])\n",
    "    \n",
    "    mask = cv.inRange(hsv, l_pos, u_pos)\n",
    "    \n",
    "    res = cv.bitwise_and(frame, frame, mask = mask)\n",
    "    \n",
    "    cv.imshow(\"frame\", frame)\n",
    "    cv.imshow(\"mask\", mask)\n",
    "    cv.imshow(\"res\", res)\n",
    "    \n",
    "    key = cv.waitKey(1)\n",
    "    if key == 27:\n",
    "        break\n",
    "        \n",
    "cv.destroyAllWindows()        "
   ]
  },
  {
   "cell_type": "code",
   "execution_count": 2,
   "id": "b24a26b4",
   "metadata": {},
   "outputs": [
    {
     "name": "stderr",
     "output_type": "stream",
     "text": [
      "Warning: Ignoring XDG_SESSION_TYPE=wayland on Gnome. Use QT_QPA_PLATFORM=wayland to run on Wayland anyway.\n"
     ]
    }
   ],
   "source": [
    "def nothing(x):\n",
    "    pass\n",
    "\n",
    "cap = cv.VideoCapture(0);\n",
    "\n",
    "\n",
    "cv.namedWindow(\"Tracking\")\n",
    "cv.createTrackbar(\"Lower_Hue\", \"Tracking\", 0, 255, nothing)\n",
    "cv.createTrackbar(\"Lower_Saturation\", \"Tracking\", 0, 255, nothing)\n",
    "cv.createTrackbar(\"Lower_Value\", \"Tracking\", 0, 255, nothing)\n",
    "cv.createTrackbar(\"Upper_Hue\", \"Tracking\", 255, 255, nothing)\n",
    "cv.createTrackbar(\"Upper_Saturation\", \"Tracking\", 255, 255, nothing)\n",
    "cv.createTrackbar(\"Upper_Value\", \"Tracking\", 255, 255, nothing)\n",
    "\n",
    "while True:\n",
    "    #frame = cv.imread('Photos/balls_5.webp')\n",
    "    _, frame = cap.read()\n",
    "    \n",
    "    hsv = cv.cvtColor(frame, cv.COLOR_BGR2HSV)\n",
    "    \n",
    "    l_h = cv.getTrackbarPos('Lower_Hue', 'Tracking')\n",
    "    l_s = cv.getTrackbarPos('Lower_Saturation', 'Tracking')\n",
    "    l_v = cv.getTrackbarPos('Lower_Value', 'Tracking')\n",
    "    \n",
    "    u_h = cv.getTrackbarPos('Upper_Hue', 'Tracking')\n",
    "    u_s = cv.getTrackbarPos('Upper_Saturation', 'Tracking')\n",
    "    u_v = cv.getTrackbarPos('Upper_Value', 'Tracking')\n",
    "    \n",
    "    # l_b = np.array([110,50,50])\n",
    "    # u_b = np.array([130,255,255])\n",
    "    \n",
    "    l_pos = np.array([l_h, l_s, l_v])\n",
    "    u_pos = np.array([u_h, u_s, u_v])\n",
    "    \n",
    "    mask = cv.inRange(hsv, l_pos, u_pos)\n",
    "    \n",
    "    res = cv.bitwise_and(frame, frame, mask = mask)\n",
    "    \n",
    "    cv.imshow(\"frame\", frame)\n",
    "    cv.imshow(\"mask\", mask)\n",
    "    cv.imshow(\"res\", res)\n",
    "    \n",
    "    key = cv.waitKey(1)\n",
    "    if key == 27:\n",
    "        break\n",
    "\n",
    "cap.release()        \n",
    "cv.destroyAllWindows()        "
   ]
  },
  {
   "cell_type": "code",
   "execution_count": null,
   "id": "e697c7ab",
   "metadata": {},
   "outputs": [],
   "source": []
  }
 ],
 "metadata": {
  "kernelspec": {
   "display_name": "Python 3 (ipykernel)",
   "language": "python",
   "name": "python3"
  },
  "language_info": {
   "codemirror_mode": {
    "name": "ipython",
    "version": 3
   },
   "file_extension": ".py",
   "mimetype": "text/x-python",
   "name": "python",
   "nbconvert_exporter": "python",
   "pygments_lexer": "ipython3",
   "version": "3.10.4"
  }
 },
 "nbformat": 4,
 "nbformat_minor": 5
}
