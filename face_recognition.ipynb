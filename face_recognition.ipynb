{
 "cells": [
  {
   "cell_type": "code",
   "execution_count": 2,
   "id": "dd84b04a",
   "metadata": {},
   "outputs": [],
   "source": [
    "import numpy as np\n",
    "import cv2 as cv\n",
    "import os"
   ]
  },
  {
   "cell_type": "code",
   "execution_count": 3,
   "id": "f1bbc20e",
   "metadata": {},
   "outputs": [
    {
     "name": "stdout",
     "output_type": "stream",
     "text": [
      "Label = Ben Afflek with a confidance of 60.069416291380506\n"
     ]
    }
   ],
   "source": [
    "haar_cascade = cv.CascadeClassifier('frontface.xml')\n",
    "\n",
    "people = []\n",
    "for i in os.listdir(r'C:\\Users\\Riyaz\\Desktop\\DS & ML\\Open CV\\Faces\\train'):\n",
    "    people.append(i)\n",
    "\n",
    "# features = np.load('features.npy', allow_pickle=True)\n",
    "# labels = np.load('labels.npy')\n",
    "\n",
    "face_recognizer = cv.face.LBPHFaceRecognizer_create()\n",
    "face_recognizer.read('face_trained.yml')\n",
    "\n",
    "img = cv.imread('Faces/val/ben_afflek/2.jpg')\n",
    "\n",
    "gray = cv.cvtColor(img, cv.COLOR_BGR2GRAY)\n",
    "cv.imshow('Person', gray)\n",
    "\n",
    "# detect the face\n",
    "face_rect = haar_cascade.detectMultiScale(gray, 1.1, 4)\n",
    "\n",
    "for (x,y,w,h) in face_rect:\n",
    "    faces_roi = gray[y:y+h, x:x+h]\n",
    "    \n",
    "    label, confidance = face_recognizer.predict(faces_roi)\n",
    "    print(f'Label = {people[label]} with a confidance of {confidance}')\n",
    "\n",
    "    cv.putText(img, str(people[label]), (20,20), cv.FONT_HERSHEY_COMPLEX, 1.0, (0,255,0), 2)\n",
    "    cv.rectangle(img, (x,y), (x+w, y+h), (0,255,0), thickness = 2)\n",
    "    \n",
    "cv.imshow('Detected_image', img)\n",
    "cv.waitKey(0)\n",
    "cv.destroyAllWindows()\n",
    "    "
   ]
  },
  {
   "cell_type": "code",
   "execution_count": null,
   "id": "9225243c",
   "metadata": {},
   "outputs": [],
   "source": []
  }
 ],
 "metadata": {
  "kernelspec": {
   "display_name": "Python 3 (ipykernel)",
   "language": "python",
   "name": "python3"
  },
  "language_info": {
   "codemirror_mode": {
    "name": "ipython",
    "version": 3
   },
   "file_extension": ".py",
   "mimetype": "text/x-python",
   "name": "python",
   "nbconvert_exporter": "python",
   "pygments_lexer": "ipython3",
   "version": "3.9.12"
  }
 },
 "nbformat": 4,
 "nbformat_minor": 5
}
