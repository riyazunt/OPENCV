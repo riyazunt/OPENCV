{
 "cells": [
  {
   "cell_type": "code",
   "execution_count": 1,
   "id": "b6fa9871",
   "metadata": {},
   "outputs": [],
   "source": [
    "import numpy as np\n",
    "import cv2 as cv\n",
    "import matplotlib.pyplot as plt\n",
    "import pandas as pd\n",
    "import os"
   ]
  },
  {
   "cell_type": "code",
   "execution_count": 3,
   "id": "4ecd24cd",
   "metadata": {},
   "outputs": [],
   "source": [
    "people = []\n",
    "for i in os.listdir(r'../Faces/train/'):\n",
    "    people.append(i)\n",
    "    \n",
    "# print(people)\n",
    "diR = r'../Faces/train/'\n",
    "\n",
    "haar_cascade = cv.CascadeClassifier('frontface.xml')\n",
    "\n",
    "features = []\n",
    "labels = []\n",
    "\n",
    "def create_train():\n",
    "    for person in people:\n",
    "        path = os.path.join(diR, person)\n",
    "        label = people.index(person)\n",
    "        \n",
    "        for img in os.listdir(path):\n",
    "            img_path = os.path.join(path, img)\n",
    "            \n",
    "            img_array = cv.imread(img_path)\n",
    "            gray = cv.cvtColor(img_array, cv.COLOR_BGR2GRAY)\n",
    "            \n",
    "            face_rect =  haar_cascade.detectMultiScale(gray, scaleFactor = 1.1, minNeighbors = 4)\n",
    "            \n",
    "            for (x,y,w,h) in face_rect:\n",
    "                faces_roi = gray[y:y+h, x:x+w]\n",
    "                features.append(faces_roi)\n",
    "                labels.append(label)\n",
    "                \n",
    "create_train()         \n",
    "# print(features)\n",
    "# print(len(labels))\n",
    "\n",
    "# print(type(features))\n",
    "# print(type(labels))\n",
    "\n",
    "face_recognizer = cv.face.LBPHFaceRecognizer_create()\n",
    "\n",
    "# train recognizer on feaures list and labels list\n",
    "\n",
    "features = np.array(features, dtype = 'object')\n",
    "labels = np.array(labels)\n",
    "\n",
    "face_recognizer.train(features, labels)\n",
    "\n",
    "\n",
    "face_recognizer.save('face_trained.yml')\n",
    "np.save('features.npy', features)\n",
    "np.save('labels.npy', labels)\n",
    "\n"
   ]
  },
  {
   "cell_type": "code",
   "execution_count": null,
   "id": "731a0c23",
   "metadata": {},
   "outputs": [],
   "source": []
  }
 ],
 "metadata": {
  "kernelspec": {
   "display_name": "Python 3 (ipykernel)",
   "language": "python",
   "name": "python3"
  },
  "language_info": {
   "codemirror_mode": {
    "name": "ipython",
    "version": 3
   },
   "file_extension": ".py",
   "mimetype": "text/x-python",
   "name": "python",
   "nbconvert_exporter": "python",
   "pygments_lexer": "ipython3",
   "version": "3.10.4"
  }
 },
 "nbformat": 4,
 "nbformat_minor": 5
}
