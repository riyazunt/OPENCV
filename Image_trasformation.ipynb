{
 "cells": [
  {
   "cell_type": "code",
   "execution_count": 2,
   "id": "6d6708a6",
   "metadata": {},
   "outputs": [],
   "source": [
    "import cv2 as cv\n",
    "import numpy as np"
   ]
  },
  {
   "cell_type": "code",
   "execution_count": 3,
   "id": "e5622623",
   "metadata": {},
   "outputs": [],
   "source": [
    "# image transformation\n",
    "img = cv.imread('Photos/park.jpg') # 3 channel BGR image\n",
    "\n",
    "cv.imshow('Park', img)\n",
    "\n",
    "# translation, shifting image along x and y axis\n",
    "def translate(img, x, y):\n",
    "    transMAT = np.float32([[1,0,x],[0,1,y]])\n",
    "    dimensions = (img.shape[1], img.shape[0])\n",
    "    return cv.warpAffine(img, transMAT, dimensions)\n",
    "\n",
    "# -ve x => left\n",
    "# -ve y => up\n",
    "# +ve x => right\n",
    "# +ve y => down\n",
    "\n",
    "translated = translate(img, 100, 100)\n",
    "cv.imshow('Translated', translated)\n",
    "\n",
    "cv.waitKey(0)\n",
    "cv.destroyAllWindows()"
   ]
  },
  {
   "cell_type": "code",
   "execution_count": 4,
   "id": "3e6d7e39",
   "metadata": {},
   "outputs": [],
   "source": [
    "# rotation\n",
    "\n",
    "def rotate(img, angle, rotPoint = None):\n",
    "    (height, width) = img.shape[:2]\n",
    "    \n",
    "    if rotPoint is None:\n",
    "        rotPoint = (width//2, height//2)\n",
    "        \n",
    "    rotMAT = cv.getRotationMatrix2D(rotPoint, angle, 1.0) # scale value\n",
    "    dimensions = (width, height)\n",
    "    return cv.warpAffine(img, rotMAT, dimensions)\n",
    "    \n",
    "rotated  = rotate(img, 45) # counter clockwise by default, -ve value for clockwise\n",
    "cv.imshow('Rotate', rotated)\n",
    "\n",
    "cv.waitKey(0)\n",
    "cv.destroyAllWindows()"
   ]
  },
  {
   "cell_type": "code",
   "execution_count": 5,
   "id": "b9c0c2a4",
   "metadata": {},
   "outputs": [],
   "source": [
    "resized = cv.resize(img, (500,500), interpolation = cv.INTER_AREA)\n",
    "cv.imshow('Resize', resized)\n",
    "\n",
    "cv.waitKey(0)\n",
    "cv.destroyAllWindows()"
   ]
  },
  {
   "cell_type": "code",
   "execution_count": 8,
   "id": "7c2f25ca",
   "metadata": {},
   "outputs": [],
   "source": [
    "flip = cv.flip(img, 0) # 1 flip along y axis (horzontally)\n",
    "# -1 to flip both vertically and horizontally\n",
    "cv.imshow('Fliped', flip)\n",
    "\n",
    "cv.waitKey(0)\n",
    "cv.destroyAllWindows()"
   ]
  },
  {
   "cell_type": "code",
   "execution_count": 9,
   "id": "9d7dc5e6",
   "metadata": {},
   "outputs": [],
   "source": [
    "crop = img[200:400, 300:400]\n",
    "cv.imshow('Crop', crop)\n",
    "\n",
    "cv.waitKey(0)\n",
    "cv.destroyAllWindows()"
   ]
  },
  {
   "cell_type": "code",
   "execution_count": null,
   "id": "cb4e15f4",
   "metadata": {},
   "outputs": [],
   "source": []
  }
 ],
 "metadata": {
  "kernelspec": {
   "display_name": "Python 3 (ipykernel)",
   "language": "python",
   "name": "python3"
  },
  "language_info": {
   "codemirror_mode": {
    "name": "ipython",
    "version": 3
   },
   "file_extension": ".py",
   "mimetype": "text/x-python",
   "name": "python",
   "nbconvert_exporter": "python",
   "pygments_lexer": "ipython3",
   "version": "3.9.12"
  }
 },
 "nbformat": 4,
 "nbformat_minor": 5
}
