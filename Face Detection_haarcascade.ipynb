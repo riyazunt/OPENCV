{
 "cells": [
  {
   "cell_type": "code",
   "execution_count": 1,
   "id": "751a4816",
   "metadata": {},
   "outputs": [],
   "source": [
    "import numpy as np\n",
    "import cv2 as cv\n",
    "import matplotlib.pyplot as plt\n",
    "import pandas as pd"
   ]
  },
  {
   "cell_type": "code",
   "execution_count": 2,
   "id": "93073a6c",
   "metadata": {},
   "outputs": [],
   "source": [
    "# haarcascade classifiers"
   ]
  },
  {
   "cell_type": "code",
   "execution_count": 3,
   "id": "2f02d639",
   "metadata": {},
   "outputs": [
    {
     "name": "stdout",
     "output_type": "stream",
     "text": [
      "No. of faces found = 6\n"
     ]
    }
   ],
   "source": [
    "img = cv.imread('group.jpg')\n",
    "cv.imshow('Person', img)\n",
    "\n",
    "gray = cv.cvtColor(img, cv.COLOR_BGR2GRAY)\n",
    "cv.imshow('Grey_Person', gray)\n",
    "\n",
    "\n",
    "haar_cascade = cv.CascadeClassifier('frontface.xml')\n",
    "face_rect =  haar_cascade.detectMultiScale(gray, scaleFactor = 1.1, minNeighbors = 3)\n",
    "\n",
    "print(f'No. of faces found = {len(face_rect)}')\n",
    "\n",
    "for (x,y,w,h) in face_rect:\n",
    "    cv.rectangle(img, (x, y), (x+w, y+h), (0,255,0), thickness = 2 )\n",
    "    \n",
    "cv.imshow('Detected_faces', img)\n",
    "\n",
    "\n",
    "\n",
    "cv.waitKey(0)\n",
    "cv.destroyAllWindows()"
   ]
  },
  {
   "cell_type": "code",
   "execution_count": 8,
   "id": "f1434466",
   "metadata": {},
   "outputs": [],
   "source": [
    "# haar cascades are very sensitive to noise in the image"
   ]
  },
  {
   "cell_type": "code",
   "execution_count": 4,
   "id": "7d9e870f",
   "metadata": {},
   "outputs": [
    {
     "name": "stdout",
     "output_type": "stream",
     "text": [
      "No. of faces found = 23\n"
     ]
    }
   ],
   "source": [
    "img1 = cv.imread('group2.jpg')\n",
    "cv.imshow('Person', img1)\n",
    "\n",
    "gray1 = cv.cvtColor(img1, cv.COLOR_BGR2GRAY)\n",
    "cv.imshow('Grey_Person', gray1)\n",
    "\n",
    "\n",
    "haar_cascade = cv.CascadeClassifier('frontface.xml')\n",
    "face_rect =  haar_cascade.detectMultiScale(gray1, scaleFactor = 1.1, minNeighbors = 8)\n",
    "\n",
    "print(f'No. of faces found = {len(face_rect)}')\n",
    "\n",
    "for (x,y,w,h) in face_rect:\n",
    "    cv.rectangle(img1, (x, y), (x+w, y+h), (0,255,0), thickness = 2 )\n",
    "    \n",
    "cv.imshow('Detected_faces', img1)\n",
    "\n",
    "\n",
    "\n",
    "cv.waitKey(0)\n",
    "cv.destroyAllWindows()"
   ]
  },
  {
   "cell_type": "code",
   "execution_count": 6,
   "id": "f9aa513d",
   "metadata": {},
   "outputs": [],
   "source": [
    "cap = cv.VideoCapture(0)\n",
    "cap.set(3, 640)\n",
    "cap.set(4, 480)\n",
    "cap.set(10, 150)\n",
    "\n",
    "haar_cascade = cv.CascadeClassifier('frontface.xml')\n",
    "\n",
    "while True:\n",
    "    \n",
    "    _, frame = cap.read()\n",
    "    \n",
    "    face_rect =  haar_cascade.detectMultiScale(frame, scaleFactor = 1.1, minNeighbors = 8)\n",
    "\n",
    "\n",
    "    for (x,y,w,h) in face_rect:\n",
    "        cv.rectangle(frame, (x, y), (x+w, y+h), (0,255,0), thickness = 2 )\n",
    "\n",
    "    cv.imshow('Detected_faces', frame)\n",
    "\n",
    "\n",
    "\n",
    "    key = cv.waitKey(1)\n",
    "    if key == 27:\n",
    "        break\n",
    "\n",
    "cap.release()        \n",
    "cv.destroyAllWindows()"
   ]
  },
  {
   "cell_type": "code",
   "execution_count": null,
   "id": "fd3c0e46",
   "metadata": {},
   "outputs": [],
   "source": []
  }
 ],
 "metadata": {
  "kernelspec": {
   "display_name": "Python 3 (ipykernel)",
   "language": "python",
   "name": "python3"
  },
  "language_info": {
   "codemirror_mode": {
    "name": "ipython",
    "version": 3
   },
   "file_extension": ".py",
   "mimetype": "text/x-python",
   "name": "python",
   "nbconvert_exporter": "python",
   "pygments_lexer": "ipython3",
   "version": "3.10.4"
  }
 },
 "nbformat": 4,
 "nbformat_minor": 5
}
