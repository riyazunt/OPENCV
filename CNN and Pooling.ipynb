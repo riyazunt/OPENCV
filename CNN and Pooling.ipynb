{
 "cells": [
  {
   "cell_type": "code",
   "execution_count": 5,
   "id": "c0021ec6",
   "metadata": {},
   "outputs": [
    {
     "name": "stdout",
     "output_type": "stream",
     "text": [
      "1/1 [==============================] - 0s 47ms/step\n",
      "[[9 7]\n",
      " [8 6]]\n"
     ]
    }
   ],
   "source": [
    "import numpy as np\n",
    "from keras.models import Sequential\n",
    "from keras.layers import MaxPooling2D\n",
    "\n",
    "# define input image\n",
    "image = np.array([[2, 2, 7, 3],\n",
    "                [9, 4, 6, 1],\n",
    "                [8, 5, 2, 4],\n",
    "                [3, 1, 2, 6]])\n",
    "image = image.reshape(1, 4, 4, 1)\n",
    "\n",
    "# define model containing just a single max pooling layer\n",
    "model = Sequential([MaxPooling2D(pool_size = 2, strides = 2)])\n",
    "\n",
    "# generate pooled output\n",
    "output = model.predict(image)\n",
    "\n",
    "# print output image\n",
    "output = np.squeeze(output)\n",
    "print(output)\n"
   ]
  },
  {
   "cell_type": "code",
   "execution_count": 15,
   "id": "ad41abe1",
   "metadata": {},
   "outputs": [
    {
     "name": "stdout",
     "output_type": "stream",
     "text": [
      "1/1 [==============================] - 0s 46ms/step\n",
      "[[4.25 4.25]\n",
      " [4.25 3.5 ]]\n"
     ]
    }
   ],
   "source": [
    "import numpy as np\n",
    "from keras.models import Sequential\n",
    "from keras.layers import AveragePooling2D\n",
    "\n",
    "# define input image\n",
    "image = np.array([[2, 2, 7, 3],\n",
    "                [9, 4, 6, 1],\n",
    "                [8, 5, 2, 4],\n",
    "                [3, 1, 2, 6]],dtype=\"float64\")\n",
    "\n",
    "image = image.reshape(1, 4, 4, 1)\n",
    "\n",
    "# define model containing just a single average pooling layer\n",
    "model = Sequential([AveragePooling2D(pool_size = 2, strides = 2)])\n",
    "\n",
    "# generate pooled output\n",
    "output = model.predict(image)\n",
    "\n",
    "# print output image\n",
    "output = np.squeeze(output)\n",
    "print(output)\n"
   ]
  },
  {
   "cell_type": "code",
   "execution_count": 2,
   "id": "90d17c59",
   "metadata": {},
   "outputs": [
    {
     "name": "stdout",
     "output_type": "stream",
     "text": [
      "1/1 [==============================] - 0s 60ms/step\n",
      "1/1 [==============================] - 0s 51ms/step\n",
      "gm_output:  9\n",
      "ga_output:  4\n"
     ]
    }
   ],
   "source": [
    "import numpy as np\n",
    "from keras.models import Sequential\n",
    "from keras.layers import GlobalMaxPooling2D\n",
    "from keras.layers import GlobalAveragePooling2D\n",
    "\n",
    "# define input image\n",
    "image = np.array([[2, 2, 7, 3],\n",
    "\t\t\t\t[9, 4, 6, 1],\n",
    "\t\t\t\t[8, 5, 2, 4],\n",
    "\t\t\t\t[3, 1, 2, 6]])\n",
    "image = image.reshape(1, 4, 4, 1)\n",
    "\n",
    "# define gm_model containing just a single global-max pooling layer\n",
    "gm_model = Sequential([GlobalMaxPooling2D()])\n",
    "\n",
    "# define ga_model containing just a single global-average pooling layer\n",
    "ga_model = Sequential([GlobalAveragePooling2D()])\n",
    "\n",
    "# generate pooled output\n",
    "gm_output = gm_model.predict(image)\n",
    "ga_output = ga_model.predict(image)\n",
    "\n",
    "# print output image\n",
    "gm_output = np.squeeze(gm_output)\n",
    "ga_output = np.squeeze(ga_output)\n",
    "print(\"gm_output: \", gm_output)\n",
    "print(\"ga_output: \", ga_output)\n"
   ]
  },
  {
   "cell_type": "code",
   "execution_count": 7,
   "id": "77f02cf9",
   "metadata": {},
   "outputs": [
    {
     "name": "stdout",
     "output_type": "stream",
     "text": [
      "Model: \"sequential_6\"\n",
      "_________________________________________________________________\n",
      " Layer (type)                Output Shape              Param #   \n",
      "=================================================================\n",
      " conv2d (Conv2D)             (None, 6, 6, 1)           10        \n",
      "                                                                 \n",
      " average_pooling2d_4 (Averag  (None, 3, 3, 1)          0         \n",
      " ePooling2D)                                                     \n",
      "                                                                 \n",
      "=================================================================\n",
      "Total params: 10\n",
      "Trainable params: 10\n",
      "Non-trainable params: 0\n",
      "_________________________________________________________________\n",
      "1/1 [==============================] - 0s 64ms/step\n",
      "[0.0, 3.0, 0.0]\n",
      "[0.0, 3.0, 0.0]\n",
      "[0.0, 3.0, 0.0]\n"
     ]
    }
   ],
   "source": [
    "\n",
    "# example of average pooling\n",
    "from numpy import asarray\n",
    "from keras.models import Sequential\n",
    "from keras.layers import Conv2D\n",
    "from keras.layers import AveragePooling2D\n",
    "# define input data\n",
    "data = [[0, 0, 0, 1, 1, 0, 0, 0],\n",
    "\t\t[0, 0, 0, 1, 1, 0, 0, 0],\n",
    "\t\t[0, 0, 0, 1, 1, 0, 0, 0],\n",
    "\t\t[0, 0, 0, 1, 1, 0, 0, 0],\n",
    "\t\t[0, 0, 0, 1, 1, 0, 0, 0],\n",
    "\t\t[0, 0, 0, 1, 1, 0, 0, 0],\n",
    "\t\t[0, 0, 0, 1, 1, 0, 0, 0],\n",
    "\t\t[0, 0, 0, 1, 1, 0, 0, 0]]\n",
    "data = asarray(data)\n",
    "data = data.reshape(1, 8, 8, 1)\n",
    "# create model\n",
    "model = Sequential()\n",
    "model.add(Conv2D(1, (3,3), activation='relu', input_shape=(8, 8, 1)))\n",
    "model.add(AveragePooling2D())\n",
    "# summarize model\n",
    "model.summary()\n",
    "# define a vertical line detector\n",
    "detector = [[[[0]],[[1]],[[0]]],\n",
    "            [[[0]],[[1]],[[0]]],\n",
    "            [[[0]],[[1]],[[0]]]]\n",
    "weights = [asarray(detector), asarray([0.0])]\n",
    "# store the weights in the model\n",
    "model.set_weights(weights)\n",
    "# apply filter to input data\n",
    "yhat = model.predict(data)\n",
    "# enumerate rows\n",
    "for r in range(yhat.shape[1]):\n",
    "\t# print each column in the row\n",
    "\tprint([yhat[0,r,c,0] for c in range(yhat.shape[2])])"
   ]
  },
  {
   "cell_type": "code",
   "execution_count": null,
   "id": "bb5cbb26",
   "metadata": {},
   "outputs": [],
   "source": []
  },
  {
   "cell_type": "code",
   "execution_count": null,
   "id": "7c3ccfa7",
   "metadata": {},
   "outputs": [],
   "source": []
  }
 ],
 "metadata": {
  "kernelspec": {
   "display_name": "Python 3 (ipykernel)",
   "language": "python",
   "name": "python3"
  },
  "language_info": {
   "codemirror_mode": {
    "name": "ipython",
    "version": 3
   },
   "file_extension": ".py",
   "mimetype": "text/x-python",
   "name": "python",
   "nbconvert_exporter": "python",
   "pygments_lexer": "ipython3",
   "version": "3.9.12"
  }
 },
 "nbformat": 4,
 "nbformat_minor": 5
}
