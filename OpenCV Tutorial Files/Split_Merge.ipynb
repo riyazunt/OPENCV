{
 "cells": [
  {
   "cell_type": "code",
   "execution_count": 1,
   "id": "12f86932",
   "metadata": {},
   "outputs": [],
   "source": [
    "import cv2 as cv\n",
    "import numpy as np\n",
    "import matplotlib.pyplot as plt"
   ]
  },
  {
   "cell_type": "code",
   "execution_count": 5,
   "id": "1d63ac1b",
   "metadata": {},
   "outputs": [
    {
     "name": "stdout",
     "output_type": "stream",
     "text": [
      "(427, 640, 3)\n",
      "(427, 640)\n",
      "(427, 640)\n",
      "(427, 640)\n"
     ]
    }
   ],
   "source": [
    "img = cv.imread('Photos/park.jpg') # 3 channel BGR image\n",
    "cv.imshow('Park', img)\n",
    "\n",
    "b,g,r = cv.split(img)\n",
    "cv.imshow('Blue', b)\n",
    "cv.imshow('Green', g)\n",
    "cv.imshow('Red', r)\n",
    "\n",
    "cv.waitKey(0)\n",
    "cv.destroyAllWindows()\n",
    "\n",
    "print(img.shape)\n",
    "print(b.shape)\n",
    "print(g.shape)\n",
    "print(r.shape)"
   ]
  },
  {
   "cell_type": "code",
   "execution_count": 13,
   "id": "72fe3e4b",
   "metadata": {},
   "outputs": [
    {
     "data": {
      "text/plain": [
       "(427, 640)"
      ]
     },
     "execution_count": 13,
     "metadata": {},
     "output_type": "execute_result"
    }
   ],
   "source": [
    "# img.shape[:2]\n",
    "# b.shape"
   ]
  },
  {
   "cell_type": "code",
   "execution_count": 7,
   "id": "ecaa51d0",
   "metadata": {},
   "outputs": [],
   "source": [
    "# zeros = np.zeros(b.shape, np.uint8)\n",
    "blank = np.zeros(img.shape[:2], dtype='uint8')\n",
    "\n",
    "grey_b_merged = cv.merge([b,blank,blank])\n",
    "cv.imshow('Grey_b', grey_b_merged)\n",
    "\n",
    "grey_g_merged = cv.merge([blank,g,blank])\n",
    "cv.imshow('Grey_g', grey_g_merged)\n",
    "\n",
    "grey_r_merged = cv.merge([blank,blank,r])\n",
    "cv.imshow('Grey_r', grey_r_merged)\n",
    "\n",
    "cv.waitKey(0)\n",
    "cv.destroyAllWindows()"
   ]
  },
  {
   "cell_type": "code",
   "execution_count": 8,
   "id": "448385bb",
   "metadata": {},
   "outputs": [],
   "source": [
    "merged = cv.merge([b,g,r])\n",
    "cv.imshow('Merged', merged)\n",
    "\n",
    "cv.waitKey(0)\n",
    "cv.destroyAllWindows()"
   ]
  },
  {
   "cell_type": "code",
   "execution_count": 26,
   "id": "acfeef98",
   "metadata": {},
   "outputs": [],
   "source": [
    "# cv.imshow('Grey_b', grey_b_merged[0:255])\n",
    "\n",
    "# cv.waitKey(0)"
   ]
  },
  {
   "cell_type": "code",
   "execution_count": null,
   "id": "4e7d9099",
   "metadata": {},
   "outputs": [],
   "source": []
  }
 ],
 "metadata": {
  "kernelspec": {
   "display_name": "Python 3 (ipykernel)",
   "language": "python",
   "name": "python3"
  },
  "language_info": {
   "codemirror_mode": {
    "name": "ipython",
    "version": 3
   },
   "file_extension": ".py",
   "mimetype": "text/x-python",
   "name": "python",
   "nbconvert_exporter": "python",
   "pygments_lexer": "ipython3",
   "version": "3.9.12"
  }
 },
 "nbformat": 4,
 "nbformat_minor": 5
}
