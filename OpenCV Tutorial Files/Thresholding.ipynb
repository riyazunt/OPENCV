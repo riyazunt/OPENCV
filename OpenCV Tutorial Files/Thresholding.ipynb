{
 "cells": [
  {
   "cell_type": "code",
   "execution_count": 1,
   "id": "61025791",
   "metadata": {},
   "outputs": [],
   "source": [
    "# thresholding is binarization of image"
   ]
  },
  {
   "cell_type": "code",
   "execution_count": 1,
   "id": "f687aaf2",
   "metadata": {},
   "outputs": [],
   "source": [
    "import cv2 as cv\n",
    "import numpy as np\n",
    "import matplotlib.pyplot as plt"
   ]
  },
  {
   "cell_type": "code",
   "execution_count": 2,
   "id": "362d6ba4",
   "metadata": {},
   "outputs": [],
   "source": [
    "img = cv.imread('Photos/cats 2.jpg')\n",
    "cv.imshow('Cats', img)\n",
    "\n",
    "\n",
    "cv.waitKey(0)\n",
    "cv.destroyAllWindows()"
   ]
  },
  {
   "cell_type": "code",
   "execution_count": 4,
   "id": "a97bf1f6",
   "metadata": {},
   "outputs": [],
   "source": [
    "# > thresh value, pixel intensity = 1\n",
    "# < thresh value, pixel intensity = 0"
   ]
  },
  {
   "cell_type": "code",
   "execution_count": 5,
   "id": "276c37c8",
   "metadata": {},
   "outputs": [],
   "source": [
    "# simple thresholding\n",
    "# adaptive thresholding"
   ]
  },
  {
   "cell_type": "code",
   "execution_count": 5,
   "id": "2b9eb693",
   "metadata": {},
   "outputs": [
    {
     "name": "stdout",
     "output_type": "stream",
     "text": [
      "150.0\n"
     ]
    }
   ],
   "source": [
    "img = cv.imread('Photos/cats 2.jpg')\n",
    "cv.imshow('Cats', img)\n",
    "\n",
    "gray = cv.cvtColor(img, cv.COLOR_BGR2GRAY)\n",
    "cv.imshow('GRAY', gray)\n",
    "\n",
    "# simple thresholding\n",
    "thershold, thresh = cv.threshold(gray, 150, 255, cv.THRESH_BINARY)\n",
    "# if above 150, sets to 255 else sets to 0\n",
    "# thersh = thresholded or binarized image\n",
    "# threshold = passed thershold value (here 150)\n",
    "\n",
    "cv.imshow('simple thresholded', thresh)\n",
    "print(thershold)\n",
    "\n",
    "cv.waitKey(0)\n",
    "cv.destroyAllWindows()"
   ]
  },
  {
   "cell_type": "code",
   "execution_count": 4,
   "id": "aa26d847",
   "metadata": {},
   "outputs": [
    {
     "name": "stdout",
     "output_type": "stream",
     "text": [
      "150.0\n"
     ]
    }
   ],
   "source": [
    "img = cv.imread('Photos/cats 2.jpg')\n",
    "cv.imshow('Cats', img)\n",
    "\n",
    "gray = cv.cvtColor(img, cv.COLOR_BGR2GRAY)\n",
    "cv.imshow('GRAY', gray)\n",
    "\n",
    "# simple thresholding\n",
    "# cv.THRESH_BINARY_INV = inverse of thresholded image\n",
    "thershold, thresh = cv.threshold(gray, 150, 255, cv.THRESH_BINARY_INV)\n",
    "# if above 150, sets to 255 else sets to 0\n",
    "# thersh = thresholded or binarized image\n",
    "# threshold = passed thershold value (here 150)\n",
    "\n",
    "cv.imshow('simple thresholded', thresh)\n",
    "print(thershold)\n",
    "\n",
    "cv.waitKey(0)\n",
    "cv.destroyAllWindows()"
   ]
  },
  {
   "cell_type": "code",
   "execution_count": 7,
   "id": "643acdb3",
   "metadata": {
    "scrolled": true
   },
   "outputs": [
    {
     "name": "stdout",
     "output_type": "stream",
     "text": [
      "110.0\n"
     ]
    }
   ],
   "source": [
    "# adaptive thresholding\n",
    "\n",
    "\n",
    "img = cv.imread('Photos/cats 2.jpg')\n",
    "cv.imshow('Cats', img)\n",
    "\n",
    "gray = cv.cvtColor(img, cv.COLOR_BGR2GRAY)\n",
    "cv.imshow('GRAY', gray)\n",
    "\n",
    "thershold, thresh = cv.threshold(gray, 110, 255, cv.THRESH_BINARY)\n",
    "cv.imshow('simple thresholded', thresh)\n",
    "print(thershold)\n",
    "\n",
    "\n",
    "adaptive_thresh = cv.adaptiveThreshold(gray, 255, cv.ADAPTIVE_THRESH_MEAN_C, cv.THRESH_BINARY, 5, 0) \n",
    "#thresh type, block(kernal)size, c value (integer substracted from mean to fine tune the threshold)\n",
    "cv.imshow('Adaptive_thresholding', adaptive_thresh)\n",
    "\n",
    "\n",
    "# gausian method will add weight to each pixel value and calculate the mean\n",
    "\n",
    "cv.waitKey(0)\n",
    "cv.destroyAllWindows()"
   ]
  },
  {
   "cell_type": "code",
   "execution_count": null,
   "id": "5d3ada78",
   "metadata": {},
   "outputs": [],
   "source": []
  }
 ],
 "metadata": {
  "kernelspec": {
   "display_name": "Python 3 (ipykernel)",
   "language": "python",
   "name": "python3"
  },
  "language_info": {
   "codemirror_mode": {
    "name": "ipython",
    "version": 3
   },
   "file_extension": ".py",
   "mimetype": "text/x-python",
   "name": "python",
   "nbconvert_exporter": "python",
   "pygments_lexer": "ipython3",
   "version": "3.9.12"
  }
 },
 "nbformat": 4,
 "nbformat_minor": 5
}
