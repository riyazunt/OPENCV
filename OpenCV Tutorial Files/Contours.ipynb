{
 "cells": [
  {
   "cell_type": "code",
   "execution_count": 1,
   "id": "3a7a8e86",
   "metadata": {},
   "outputs": [],
   "source": [
    "import cv2 as cv\n",
    "import numpy as np"
   ]
  },
  {
   "cell_type": "code",
   "execution_count": 2,
   "id": "d39bbc65",
   "metadata": {},
   "outputs": [
    {
     "name": "stdout",
     "output_type": "stream",
     "text": [
      "380\n"
     ]
    }
   ],
   "source": [
    "# contours are boundaries of object (mathamatically they are not same as edges)\n",
    "# shape analysis, object detection and recognition\n",
    "\n",
    "img = cv.imread('Photos/cats.jpg') # 3 channel BGR image\n",
    "cv.imshow('Park', img)\n",
    "\n",
    "gray = cv.cvtColor(img, cv.COLOR_BGR2GRAY)\n",
    "cv.imshow('Gray', gray)\n",
    "\n",
    "blur = cv.GaussianBlur(gray, (5,5), cv.BORDER_DEFAULT)\n",
    "cv.imshow('Blur', blur)\n",
    "\n",
    "canny = cv.Canny(blur, 125, 175)\n",
    "cv.imshow('Canny_edges', canny)\n",
    "\n",
    "contours, hierarchies = cv.findContours(canny, cv.RETR_LIST, cv.CHAIN_APPROX_SIMPLE)\n",
    "\n",
    "# cv.RETR_LIST - mode of finding contour\n",
    "# LIST - all contours\n",
    "# EXTERNAL - external contours\n",
    "# TREE - hierarchical contours\n",
    "\n",
    "\n",
    "# how we want to approximate the contour\n",
    "# NONE  - do nothing, return all points\n",
    "# SIMPLE - compress all the contours returned (ex: line to 2 end points)\n",
    "\n",
    "print(len(contours))\n",
    "\n",
    "cv.waitKey(0)\n",
    "cv.destroyAllWindows()"
   ]
  },
  {
   "cell_type": "code",
   "execution_count": 3,
   "id": "06caefc7",
   "metadata": {},
   "outputs": [
    {
     "name": "stdout",
     "output_type": "stream",
     "text": [
      "839\n"
     ]
    },
    {
     "data": {
      "text/plain": [
       "-1"
      ]
     },
     "execution_count": 3,
     "metadata": {},
     "output_type": "execute_result"
    }
   ],
   "source": [
    "# contours are boundaries of object (mathamatically they are not same as edges)\n",
    "# shape analysis, object detection and recognition\n",
    "\n",
    "img = cv.imread('Photos/cats.jpg') # 3 channel BGR image\n",
    "cv.imshow('Park', img)\n",
    "\n",
    "gray = cv.cvtColor(img, cv.COLOR_BGR2GRAY)\n",
    "cv.imshow('Gray', gray)\n",
    "\n",
    "# blur = cv.GaussianBlur(gray, (5,5), cv.BORDER_DEFAULT)\n",
    "# cv.imshow('Blur', blur)\n",
    "\n",
    "# canny = cv.Canny(blur, 125, 175)\n",
    "# cv.imshow('Canny_edges', canny)\n",
    "\n",
    "ret, thresh  = cv.threshold(gray, 125, 255, cv.THRESH_BINARY)\n",
    "# density below 125, set to black\n",
    "# above 125, set to white\n",
    "cv.imshow('Threshold', thresh)\n",
    "\n",
    "contours, hierarchies = cv.findContours(thresh, cv.RETR_LIST, cv.CHAIN_APPROX_SIMPLE)\n",
    "\n",
    "print(len(contours))\n",
    "\n",
    "cv.waitKey(0)\n",
    "cv.destroyAllWindows()"
   ]
  },
  {
   "cell_type": "code",
   "execution_count": 4,
   "id": "cde564ee",
   "metadata": {},
   "outputs": [],
   "source": [
    "# thresholding will binarize an image"
   ]
  },
  {
   "cell_type": "code",
   "execution_count": 3,
   "id": "0e2ca8a2",
   "metadata": {},
   "outputs": [
    {
     "name": "stdout",
     "output_type": "stream",
     "text": [
      "839\n"
     ]
    }
   ],
   "source": [
    "import numpy as np\n",
    "\n",
    "img = cv.imread('Photos/cats.jpg') # 3 channel BGR image\n",
    "cv.imshow('Park', img)\n",
    "\n",
    "blank = np.zeros(img.shape[:3], dtype='uint8') # or just img.shape\n",
    "cv.imshow('Blank', blank)\n",
    "\n",
    "gray = cv.cvtColor(img, cv.COLOR_BGR2GRAY)\n",
    "cv.imshow('Gray', gray)\n",
    "\n",
    "ret, thresh  = cv.threshold(gray, 125, 255, cv.THRESH_BINARY)\n",
    "cv.imshow('Threshold', thresh)\n",
    "\n",
    "contours, hierarchies = cv.findContours(thresh, cv.RETR_LIST, cv.CHAIN_APPROX_SIMPLE)\n",
    "\n",
    "print(len(contours))\n",
    "\n",
    "cv.drawContours(blank, contours, -1, (0,0,255), 2) # color, thicknes, -1 to display/ draw all contours\n",
    "cv.imshow('Contours Drawn', blank)\n",
    "\n",
    "cv.waitKey(0)\n",
    "cv.destroyAllWindows()"
   ]
  },
  {
   "cell_type": "code",
   "execution_count": null,
   "id": "72d57add",
   "metadata": {},
   "outputs": [],
   "source": [
    "# can do canny and find contours instead of thresholding"
   ]
  }
 ],
 "metadata": {
  "kernelspec": {
   "display_name": "Python 3 (ipykernel)",
   "language": "python",
   "name": "python3"
  },
  "language_info": {
   "codemirror_mode": {
    "name": "ipython",
    "version": 3
   },
   "file_extension": ".py",
   "mimetype": "text/x-python",
   "name": "python",
   "nbconvert_exporter": "python",
   "pygments_lexer": "ipython3",
   "version": "3.9.12"
  }
 },
 "nbformat": 4,
 "nbformat_minor": 5
}
