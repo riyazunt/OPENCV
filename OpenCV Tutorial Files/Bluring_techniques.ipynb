{
 "cells": [
  {
   "cell_type": "code",
   "execution_count": 2,
   "id": "1d25522f",
   "metadata": {},
   "outputs": [],
   "source": [
    "import cv2 as cv\n",
    "import numpy as np\n",
    "import matplotlib.pyplot as plt"
   ]
  },
  {
   "cell_type": "code",
   "execution_count": 3,
   "id": "ed81631d",
   "metadata": {},
   "outputs": [],
   "source": [
    "# smoothing and bluring to reduce the noises\n",
    "\n",
    "img = cv.imread('Photos/cats.jpg') # 3 channel BGR image\n",
    "cv.imshow('Park', img)\n",
    "\n",
    "# averaging (pixel intesity of middle is average of surrounding (CNN))\n",
    "avg = cv.blur(img, (5,5)) # higher kernel size => higher the blur\n",
    "cv.imshow('AVG', avg)\n",
    "\n",
    "# gausian (avg of weighted surroundings)\n",
    "# less blur compared to avgblur but more natural\n",
    "gBlur = cv.GaussianBlur(img, (5,5), 0) # STD in x direction\n",
    "cv.imshow('Gaus_blur', gBlur )\n",
    "\n",
    "# median blur (median of surroundings), more effective to noise (like smudge)\n",
    "# not ment for high kernal size\n",
    "median = cv.medianBlur(img, 5)\n",
    "cv.imshow('Midean', median)\n",
    "\n",
    "\n",
    "# bitlateral bluring (most effective, used in most advanced CV, it retains the edges )\n",
    "bilateral = cv.bilateralFilter(img, 5, 15, 15) # sigmacolor (more color in neighburhood will be considered)\n",
    "# sigmaspace, pixels from how far will influance the calculation\n",
    "cv.imshow('Bilateral', bilateral)\n",
    "\n",
    "\n",
    "cv.waitKey(0)\n",
    "cv.destroyAllWindows()"
   ]
  },
  {
   "cell_type": "code",
   "execution_count": null,
   "id": "ce5a2acd",
   "metadata": {},
   "outputs": [],
   "source": []
  }
 ],
 "metadata": {
  "kernelspec": {
   "display_name": "Python 3 (ipykernel)",
   "language": "python",
   "name": "python3"
  },
  "language_info": {
   "codemirror_mode": {
    "name": "ipython",
    "version": 3
   },
   "file_extension": ".py",
   "mimetype": "text/x-python",
   "name": "python",
   "nbconvert_exporter": "python",
   "pygments_lexer": "ipython3",
   "version": "3.9.12"
  }
 },
 "nbformat": 4,
 "nbformat_minor": 5
}
