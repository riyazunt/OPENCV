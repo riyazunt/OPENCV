{
 "cells": [
  {
   "cell_type": "code",
   "execution_count": 1,
   "id": "cc9eec86",
   "metadata": {},
   "outputs": [],
   "source": [
    "import cv2 as cv\n",
    "import numpy as np"
   ]
  },
  {
   "cell_type": "code",
   "execution_count": 3,
   "id": "059454dc",
   "metadata": {},
   "outputs": [
    {
     "data": {
      "text/plain": [
       "-1"
      ]
     },
     "execution_count": 3,
     "metadata": {},
     "output_type": "execute_result"
    }
   ],
   "source": [
    "blank = np.zeros((400,400), dtype = 'uint8')\n",
    "rect = cv.rectangle(blank.copy(), (30,30), (370,370), 255, -1) # color and thicknes -1 to fill the color\n",
    "circle = cv.circle(blank.copy(), (200,200), 200, 255, -1) # center, radius, color and fill\n",
    "\n",
    "# cv.imshow('Rectangle', rect)\n",
    "# cv.imshow('Circle', circle)\n",
    "\n",
    "# return intersecting(common) region\n",
    "# bitwise_and  = cv.bitwise_and(rect,circle)\n",
    "# cv.imshow('bitwise_and', bitwise_and)\n",
    "\n",
    "# return both intersecting and non intersecting region\n",
    "# bitwise_or  = cv.bitwise_or(rect,circle)\n",
    "# cv.imshow('bitwise_or', bitwise_or)\n",
    "\n",
    "# inverse the binary color\n",
    "# bitwise_not  = cv.bitwise_not(circle)\n",
    "# cv.imshow('bitwise_not', bitwise_not) \n",
    "\n",
    "# return the non intersecting region\n",
    "bitwise_xor  = cv.bitwise_xor(rect, circle)\n",
    "cv.imshow('bitwise_xor', bitwise_xor)\n",
    "\n",
    "# OR - XOR = AND\n",
    "# OR - AND = XOR\n",
    "\n",
    "\n",
    "\n",
    "cv.waitKey(0)"
   ]
  },
  {
   "cell_type": "code",
   "execution_count": 2,
   "id": "bc8fb4f5",
   "metadata": {},
   "outputs": [],
   "source": [
    "# masking helps to focus on certain part if images\n",
    "# dimensions of mask have to be same size as that of the image\n",
    "\n",
    "\n",
    "img = cv.imread('Photos/cats.jpg')\n",
    "cv.imshow('Cats', img)\n",
    "\n",
    "blank = np.zeros(img.shape[:2], dtype = 'uint8')\n",
    "cv.imshow('Blank image', blank)\n",
    "\n",
    "mask_c = cv.circle(blank.copy(), (img.shape[1]//2, img.shape[0]//2), 100, 255, -1)\n",
    "cv.imshow('Mask_c', mask_c)\n",
    "\n",
    "mask_r = cv.rectangle(blank.copy(), (img.shape[1]//2, img.shape[0]//2), (img.shape[1]//2 + 100, img.shape[0]//2 + 100), 255, -1)\n",
    "cv.imshow('Mask_r', mask_r)\n",
    "\n",
    "masked_img  = cv.bitwise_and(img, img, mask=mask_c)\n",
    "cv.imshow('Masked image', masked_img)\n",
    "\n",
    "\n",
    "cv.waitKey(0)\n",
    "cv.destroyAllWindows()"
   ]
  },
  {
   "cell_type": "code",
   "execution_count": null,
   "id": "4be26fd9",
   "metadata": {},
   "outputs": [],
   "source": []
  }
 ],
 "metadata": {
  "kernelspec": {
   "display_name": "Python 3 (ipykernel)",
   "language": "python",
   "name": "python3"
  },
  "language_info": {
   "codemirror_mode": {
    "name": "ipython",
    "version": 3
   },
   "file_extension": ".py",
   "mimetype": "text/x-python",
   "name": "python",
   "nbconvert_exporter": "python",
   "pygments_lexer": "ipython3",
   "version": "3.9.12"
  }
 },
 "nbformat": 4,
 "nbformat_minor": 5
}
